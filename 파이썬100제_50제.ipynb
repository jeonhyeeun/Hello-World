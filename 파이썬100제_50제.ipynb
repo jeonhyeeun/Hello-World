{
  "nbformat": 4,
  "nbformat_minor": 0,
  "metadata": {
    "colab": {
      "name": "파이썬100제_50제.ipynb",
      "provenance": [],
      "toc_visible": true,
      "authorship_tag": "ABX9TyOylK6ClFumO4CW5NyJhqpW",
      "include_colab_link": true
    },
    "kernelspec": {
      "name": "python3",
      "display_name": "Python 3"
    },
    "language_info": {
      "name": "python"
    }
  },
  "cells": [
    {
      "cell_type": "markdown",
      "metadata": {
        "id": "view-in-github",
        "colab_type": "text"
      },
      "source": [
        "<a href=\"https://colab.research.google.com/github/jeonhyeeun/Hello-World/blob/main/%ED%8C%8C%EC%9D%B4%EC%8D%AC100%EC%A0%9C_50%EC%A0%9C.ipynb\" target=\"_parent\"><img src=\"https://colab.research.google.com/assets/colab-badge.svg\" alt=\"Open In Colab\"/></a>"
      ]
    },
    {
      "cell_type": "markdown",
      "metadata": {
        "id": "QekdxkJFc7nc"
      },
      "source": [
        "# 1번"
      ]
    },
    {
      "cell_type": "code",
      "metadata": {
        "id": "WWXOyBiMbxdk",
        "colab": {
          "base_uri": "https://localhost:8080/"
        },
        "outputId": "d392ff75-c23d-469d-f4ba-c039a009cf79"
      },
      "source": [
        "nums = [100, 200, 300, 400, 500]\n",
        "#nums = nums[:3]\n",
        "#print(dir(nums))\n",
        "nums.pop()\n",
        "nums.pop()\n",
        "nums"
      ],
      "execution_count": 2,
      "outputs": [
        {
          "output_type": "execute_result",
          "data": {
            "text/plain": [
              "[100, 200, 300]"
            ]
          },
          "metadata": {
            "tags": []
          },
          "execution_count": 2
        }
      ]
    },
    {
      "cell_type": "markdown",
      "metadata": {
        "id": "6HjpH8sedlA4"
      },
      "source": [
        "# 2번"
      ]
    },
    {
      "cell_type": "code",
      "metadata": {
        "colab": {
          "base_uri": "https://localhost:8080/"
        },
        "id": "giwC9l2UdI0b",
        "outputId": "4755d6f4-6e2c-452b-8b3e-2211e6e62e4f"
      },
      "source": [
        " I = [ 200, 100, 300 ]\n",
        " I.insert(2, 10000)\n",
        " print(I) "
      ],
      "execution_count": 3,
      "outputs": [
        {
          "output_type": "stream",
          "text": [
            "[200, 100, 10000, 300]\n"
          ],
          "name": "stdout"
        }
      ]
    },
    {
      "cell_type": "markdown",
      "metadata": {
        "id": "O-xAHsRLdm6U"
      },
      "source": [
        "# 3번"
      ]
    },
    {
      "cell_type": "code",
      "metadata": {
        "colab": {
          "base_uri": "https://localhost:8080/"
        },
        "id": "AJtHi8w5eA-I",
        "outputId": "ce2789c0-f144-4bd3-a743-8bdd25b2f1dc"
      },
      "source": [
        " I = [100, 200, 300]\n",
        " print(type(I))\n",
        " print(dir(I)) "
      ],
      "execution_count": 4,
      "outputs": [
        {
          "output_type": "stream",
          "text": [
            "<class 'list'>\n",
            "['__add__', '__class__', '__contains__', '__delattr__', '__delitem__', '__dir__', '__doc__', '__eq__', '__format__', '__ge__', '__getattribute__', '__getitem__', '__gt__', '__hash__', '__iadd__', '__imul__', '__init__', '__init_subclass__', '__iter__', '__le__', '__len__', '__lt__', '__mul__', '__ne__', '__new__', '__reduce__', '__reduce_ex__', '__repr__', '__reversed__', '__rmul__', '__setattr__', '__setitem__', '__sizeof__', '__str__', '__subclasshook__', 'append', 'clear', 'copy', 'count', 'extend', 'index', 'insert', 'pop', 'remove', 'reverse', 'sort']\n"
          ],
          "name": "stdout"
        }
      ]
    },
    {
      "cell_type": "markdown",
      "metadata": {
        "id": "n3KZkU6meTjL"
      },
      "source": [
        "# 4번"
      ]
    },
    {
      "cell_type": "code",
      "metadata": {
        "colab": {
          "base_uri": "https://localhost:8080/"
        },
        "id": "MoJNqYxdeVig",
        "outputId": "4e5f26ce-03f8-4835-d28a-5cbbcbe744ce"
      },
      "source": [
        "a = '''hello world'''\n",
        "print(type(a))"
      ],
      "execution_count": 5,
      "outputs": [
        {
          "output_type": "stream",
          "text": [
            "<class 'str'>\n"
          ],
          "name": "stdout"
        }
      ]
    },
    {
      "cell_type": "code",
      "metadata": {
        "colab": {
          "base_uri": "https://localhost:8080/",
          "height": 35
        },
        "id": "rL_UfN19eorm",
        "outputId": "d7c10f9b-f18e-4e6a-b7ef-e3adb0171df8"
      },
      "source": [
        "a"
      ],
      "execution_count": 6,
      "outputs": [
        {
          "output_type": "execute_result",
          "data": {
            "application/vnd.google.colaboratory.intrinsic+json": {
              "type": "string"
            },
            "text/plain": [
              "'hello world'"
            ]
          },
          "metadata": {
            "tags": []
          },
          "execution_count": 6
        }
      ]
    },
    {
      "cell_type": "markdown",
      "metadata": {
        "id": "IWkXzK_TerdL"
      },
      "source": [
        "# 5번"
      ]
    },
    {
      "cell_type": "code",
      "metadata": {
        "colab": {
          "base_uri": "https://localhost:8080/"
        },
        "id": "MYmGvjYLetQg",
        "outputId": "2f25fb30-e9b7-4609-f6d6-35f6806f1747"
      },
      "source": [
        "a = 10\n",
        "b = 2\n",
        "for i in range(1 ,5, 2):\n",
        "  a += i\n",
        "\n",
        "print(a + b)"
      ],
      "execution_count": 8,
      "outputs": [
        {
          "output_type": "stream",
          "text": [
            "16\n"
          ],
          "name": "stdout"
        }
      ]
    },
    {
      "cell_type": "markdown",
      "metadata": {
        "id": "lK8LCG9afAyc"
      },
      "source": [
        "# 6번"
      ]
    },
    {
      "cell_type": "code",
      "metadata": {
        "colab": {
          "base_uri": "https://localhost:8080/"
        },
        "id": "S81HeWvmfNbC",
        "outputId": "d03a8227-a351-4fd4-a869-60d3e20f051a"
      },
      "source": [
        "print(bool(\" \"))\n",
        "print(bool(\"\"))\n",
        "print(bool([\" \"]))\n",
        "print(bool([]))\n",
        "print(bool(None))"
      ],
      "execution_count": 9,
      "outputs": [
        {
          "output_type": "stream",
          "text": [
            "True\n",
            "False\n",
            "True\n",
            "False\n",
            "False\n"
          ],
          "name": "stdout"
        }
      ]
    },
    {
      "cell_type": "markdown",
      "metadata": {
        "id": "x7Klwml2fdNv"
      },
      "source": [
        "# 7번"
      ]
    },
    {
      "cell_type": "code",
      "metadata": {
        "colab": {
          "base_uri": "https://localhost:8080/"
        },
        "id": "MhefOS9LffZ4",
        "outputId": "17329261-2cf8-45e8-9631-8cb01e5d8e48"
      },
      "source": [
        "한글 = 100\n",
        "한글"
      ],
      "execution_count": 10,
      "outputs": [
        {
          "output_type": "execute_result",
          "data": {
            "text/plain": [
              "100"
            ]
          },
          "metadata": {
            "tags": []
          },
          "execution_count": 10
        }
      ]
    },
    {
      "cell_type": "code",
      "metadata": {
        "id": "EmlM62bNgBug"
      },
      "source": [
        "Beautiful_is_better_than_ugly = 100\n",
        "beautifulIsBetterThanUgly = 100"
      ],
      "execution_count": 12,
      "outputs": []
    },
    {
      "cell_type": "markdown",
      "metadata": {
        "id": "IweW8S6IgZAA"
      },
      "source": [
        "# 8번"
      ]
    },
    {
      "cell_type": "code",
      "metadata": {
        "colab": {
          "base_uri": "https://localhost:8080/"
        },
        "id": "3yprGivKgai7",
        "outputId": "f66cbdf4-8941-4c32-cadd-55c2e51fcb7d"
      },
      "source": [
        "d = {'height':180, 'weight':78, 'weight':84, 'temparture':36, 'eyesight':1}\n",
        "print(d['weight'])"
      ],
      "execution_count": 17,
      "outputs": [
        {
          "output_type": "stream",
          "text": [
            "84\n"
          ],
          "name": "stdout"
        }
      ]
    },
    {
      "cell_type": "code",
      "metadata": {
        "colab": {
          "base_uri": "https://localhost:8080/"
        },
        "id": "DEIlVWV3h9az",
        "outputId": "2e024a69-a537-4718-df4a-88e2b3491d40"
      },
      "source": [
        "print(d)"
      ],
      "execution_count": 19,
      "outputs": [
        {
          "output_type": "stream",
          "text": [
            "{'height': 180, 'weight': 84, 'temparture': 36, 'eyesight': 1}\n"
          ],
          "name": "stdout"
        }
      ]
    },
    {
      "cell_type": "code",
      "metadata": {
        "colab": {
          "base_uri": "https://localhost:8080/"
        },
        "id": "rKncbvkViEee",
        "outputId": "b9e65a24-db41-4384-8fa2-d57da6f2c24d"
      },
      "source": [
        "d"
      ],
      "execution_count": 20,
      "outputs": [
        {
          "output_type": "execute_result",
          "data": {
            "text/plain": [
              "{'eyesight': 1, 'height': 180, 'temparture': 36, 'weight': 84}"
            ]
          },
          "metadata": {
            "tags": []
          },
          "execution_count": 20
        }
      ]
    },
    {
      "cell_type": "code",
      "metadata": {
        "colab": {
          "base_uri": "https://localhost:8080/"
        },
        "id": "HzaXYBsriFmn",
        "outputId": "572ee37d-b7bb-402f-e187-29f9e2507574"
      },
      "source": [
        "!python -V"
      ],
      "execution_count": 21,
      "outputs": [
        {
          "output_type": "stream",
          "text": [
            "Python 3.7.10\n"
          ],
          "name": "stdout"
        }
      ]
    },
    {
      "cell_type": "code",
      "metadata": {
        "colab": {
          "base_uri": "https://localhost:8080/"
        },
        "id": "dFNfiBcMiLZj",
        "outputId": "5f635b4a-5137-4ade-dc5f-6db7c26ab6df"
      },
      "source": [
        "d['weight'] = 1000\n",
        "print(d)"
      ],
      "execution_count": 22,
      "outputs": [
        {
          "output_type": "stream",
          "text": [
            "{'height': 180, 'weight': 1000, 'temparture': 36, 'eyesight': 1}\n"
          ],
          "name": "stdout"
        }
      ]
    },
    {
      "cell_type": "code",
      "metadata": {
        "colab": {
          "base_uri": "https://localhost:8080/"
        },
        "id": "OcDSLCz4iSAj",
        "outputId": "daf8e569-068d-4c4c-e901-868c49d0627a"
      },
      "source": [
        "d['aa'] = 1000\n",
        "print(d)"
      ],
      "execution_count": 23,
      "outputs": [
        {
          "output_type": "stream",
          "text": [
            "{'height': 180, 'weight': 1000, 'temparture': 36, 'eyesight': 1, 'aa': 1000}\n"
          ],
          "name": "stdout"
        }
      ]
    },
    {
      "cell_type": "code",
      "metadata": {
        "colab": {
          "base_uri": "https://localhost:8080/"
        },
        "id": "91iBRws8iX3a",
        "outputId": "32ecc52e-27c4-46b5-cb95-416041eb5371"
      },
      "source": [
        "d['bb'] = 1000\n",
        "print(d)"
      ],
      "execution_count": 25,
      "outputs": [
        {
          "output_type": "stream",
          "text": [
            "{'height': 180, 'weight': 1000, 'temparture': 36, 'eyesight': 1, 'aa': 1000, 'bb': 1000}\n"
          ],
          "name": "stdout"
        }
      ]
    },
    {
      "cell_type": "code",
      "metadata": {
        "colab": {
          "base_uri": "https://localhost:8080/"
        },
        "id": "DuwYUX_3ibfd",
        "outputId": "c4c8c0cd-d966-41f4-92b3-0959080b7775"
      },
      "source": [
        "for i in d:\n",
        "  print(i)"
      ],
      "execution_count": 26,
      "outputs": [
        {
          "output_type": "stream",
          "text": [
            "height\n",
            "weight\n",
            "temparture\n",
            "eyesight\n",
            "aa\n",
            "bb\n"
          ],
          "name": "stdout"
        }
      ]
    },
    {
      "cell_type": "markdown",
      "metadata": {
        "id": "Noh05dunihUE"
      },
      "source": [
        "# 9번"
      ]
    },
    {
      "cell_type": "code",
      "metadata": {
        "colab": {
          "base_uri": "https://localhost:8080/"
        },
        "id": "S4NDnK80ijPn",
        "outputId": "25fd6e8c-529d-4d09-f801-0f74d03a29ce"
      },
      "source": [
        "year = '2019'\n",
        "month = '04'\n",
        "day = '26'\n",
        "hour = '11'\n",
        "minute = '34'\n",
        "second = '27'\n",
        "\n",
        "print(year, month, day)\n",
        "print(hour, minute, second)"
      ],
      "execution_count": 27,
      "outputs": [
        {
          "output_type": "stream",
          "text": [
            "2019 04 26\n",
            "11 34 27\n"
          ],
          "name": "stdout"
        }
      ]
    },
    {
      "cell_type": "code",
      "metadata": {
        "colab": {
          "base_uri": "https://localhost:8080/"
        },
        "id": "MU3KatarjTMp",
        "outputId": "9d891b28-ecc5-4656-ebd7-cc5756210cbd"
      },
      "source": [
        "print(year, month, day, end=' ', sep='/')\n",
        "print(hour, minute, second, sep=':')"
      ],
      "execution_count": 30,
      "outputs": [
        {
          "output_type": "stream",
          "text": [
            "2019/04/26 11:34:27\n"
          ],
          "name": "stdout"
        }
      ]
    },
    {
      "cell_type": "markdown",
      "metadata": {
        "id": "6zPDjHM_j2IN"
      },
      "source": [
        "# 10번\n",
        "        *\n",
        "       ***\n",
        "      *****\n",
        "     *******\n",
        "    *********"
      ]
    },
    {
      "cell_type": "code",
      "metadata": {
        "colab": {
          "base_uri": "https://localhost:8080/"
        },
        "id": "ujSl_ZCKj4UA",
        "outputId": "8f17e92e-64b3-46ea-825f-407751381ebe"
      },
      "source": [
        "'''\n",
        "4     1\n",
        "3     3\n",
        "2     5\n",
        "1     7\n",
        "0     9\n",
        "n-i  2i-1\n",
        "'''\n",
        "\n",
        "n = 5\n",
        "for i in range(1, n+1):\n",
        "    #print(n-i, 2*i-1)\n",
        "    print((' ' * (n-i)) + ('*' * (2*i-1))) "
      ],
      "execution_count": 34,
      "outputs": [
        {
          "output_type": "stream",
          "text": [
            "    *\n",
            "   ***\n",
            "  *****\n",
            " *******\n",
            "*********\n"
          ],
          "name": "stdout"
        }
      ]
    }
  ]
}